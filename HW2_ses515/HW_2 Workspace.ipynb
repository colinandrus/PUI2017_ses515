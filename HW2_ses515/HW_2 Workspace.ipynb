{
 "cells": [
  {
   "cell_type": "code",
   "execution_count": 13,
   "metadata": {},
   "outputs": [],
   "source": [
    "from __future__ import print_function\n",
    "\n",
    "import pylab as pl\n",
    "import os\n",
    "import json\n",
    "import pandas as pd\n",
    "import sys\n",
    "\n",
    "try:\n",
    "    import urllib2 as urllib\n",
    "except ImportError:\n",
    "    import urllib.request as urllib\n",
    "\n",
    "# %pylab inline\n",
    "pl.rc('font', size=15)\n",
    "\n",
    "# # key = sys.argv(1)\n",
    "# # line = sys.argv(2)\n",
    "\n",
    "# if not len(sys.argv) == 3:\n",
    "#     print (\"Invalid number of arguments.\")\n",
    "#     sys.exit()\n",
    "\n",
    "# url = \"http://bustime.mta.info/api/siri/vehicle-monitoring.json?key=\" + key + \\\n",
    "#    \"a&VehicleMonitoringDetailLevel=calls&LineRef=\" + line\n",
    "\n",
    "url = 'http://bustime.mta.info/api/siri/vehicle-monitoring.json?key=e5a5e9f0-7ebf-46e2-9924-ce178bbd6802&VehicleMonitoringDetailLevel=calls&LineRef=B52'\n",
    "\n",
    "response = urllib.urlopen(url)\n",
    "data = response.read().decode(\"utf-8\")\n",
    "data = json.loads(data)\n",
    "\n",
    "\n"
   ]
  },
  {
   "cell_type": "code",
   "execution_count": 2,
   "metadata": {
    "collapsed": true
   },
   "outputs": [],
   "source": [
    "allbuses = data['Siri']['ServiceDelivery']['VehicleMonitoringDelivery'][0]['VehicleActivity']\n"
   ]
  },
  {
   "cell_type": "code",
   "execution_count": 3,
   "metadata": {},
   "outputs": [
    {
     "name": "stdout",
     "output_type": "stream",
     "text": [
      "Bus 0 is at {u'Latitude': 40.695509, u'Longitude': -73.988993}\n",
      "Bus 1 is at {u'Latitude': 40.695509, u'Longitude': -73.988993}\n",
      "Bus 2 is at {u'Latitude': 40.695509, u'Longitude': -73.988993}\n",
      "Bus 3 is at {u'Latitude': 40.695509, u'Longitude': -73.988993}\n",
      "Bus 4 is at {u'Latitude': 40.695509, u'Longitude': -73.988993}\n",
      "Bus 5 is at {u'Latitude': 40.695509, u'Longitude': -73.988993}\n",
      "Bus 6 is at {u'Latitude': 40.695509, u'Longitude': -73.988993}\n",
      "Bus 7 is at {u'Latitude': 40.695509, u'Longitude': -73.988993}\n",
      "Bus 8 is at {u'Latitude': 40.695509, u'Longitude': -73.988993}\n",
      "Bus 9 is at {u'Latitude': 40.695509, u'Longitude': -73.988993}\n"
     ]
    }
   ],
   "source": [
    "bus_list = []\n",
    "for bus in range(len(allbuses)):\n",
    "    name = allbuses[bus]['MonitoredVehicleJourney']['PublishedLineName']\n",
    "    location = allbuses[bus]['MonitoredVehicleJourney']['VehicleLocation']\n",
    "    bus_list.append({\"name\": name, \"location\": location})\n",
    "    \n",
    "for i in range(len(allbuses)):\n",
    "    print (\"Bus {i} is at {location}\".format(i=i, location=location))   \n",
    "                \n"
   ]
  },
  {
   "cell_type": "code",
   "execution_count": 11,
   "metadata": {},
   "outputs": [
    {
     "name": "stdout",
     "output_type": "stream",
     "text": [
      "Bus 0 is at 40.699288 latitude and -73.911275 longitude\n",
      "Bus 1 is at 40.6937 latitude and -73.917935 longitude\n",
      "Bus 2 is at 40.690767 latitude and -73.920813 longitude\n",
      "Bus 3 is at 40.685761 latitude and -73.954543 longitude\n",
      "Bus 4 is at 40.693763 latitude and -73.917873 longitude\n",
      "Bus 5 is at 40.688873 latitude and -73.927487 longitude\n",
      "Bus 6 is at 40.688364 latitude and -73.979565 longitude\n",
      "Bus 7 is at 40.685824 latitude and -73.956611 longitude\n",
      "Bus 8 is at 40.68599 latitude and -73.97364 longitude\n",
      "Bus 9 is at 40.695509 latitude and -73.988993 longitude\n"
     ]
    }
   ],
   "source": [
    "bus_list = []\n",
    "for bus in range(len(allbuses)):\n",
    "    name = allbuses[bus]['MonitoredVehicleJourney']['PublishedLineName']\n",
    "    location = allbuses[bus]['MonitoredVehicleJourney']['VehicleLocation']\n",
    "    bus_list.append((name, location))\n",
    "    \n",
    "for i in range(len(allbuses)):\n",
    "     print (\"Bus {} is at {} latitude and {} longitude\".format(i, bus_list[i][1].values()[0], bus_list[i][1].values()[1]))   \n",
    "\n",
    "\n",
    "         "
   ]
  },
  {
   "cell_type": "markdown",
   "metadata": {},
   "source": [
    "## HW Challenge 2"
   ]
  },
  {
   "cell_type": "code",
   "execution_count": null,
   "metadata": {
    "collapsed": true
   },
   "outputs": [],
   "source": []
  },
  {
   "cell_type": "code",
   "execution_count": null,
   "metadata": {
    "collapsed": true
   },
   "outputs": [],
   "source": [
    "# call: \n",
    "# \"PresentableDistance\" ie \"approaching\"\n",
    "# \"VehicleLocation\" \" Longitude, latitude\"\n",
    "# \"StopPointName\" \"Gates + Evergreen\""
   ]
  },
  {
   "cell_type": "code",
   "execution_count": 14,
   "metadata": {
    "collapsed": true
   },
   "outputs": [],
   "source": [
    "busloc = data['Siri']['ServiceDelivery']['VehicleMonitoringDelivery'][0]['VehicleActivity']\n"
   ]
  },
  {
   "cell_type": "code",
   "execution_count": 15,
   "metadata": {
    "collapsed": true
   },
   "outputs": [],
   "source": [
    "#exact location - lat/long\n",
    "latlong = busloc[0]['MonitoredVehicleJourney']['VehicleLocation']"
   ]
  },
  {
   "cell_type": "code",
   "execution_count": 16,
   "metadata": {
    "collapsed": true
   },
   "outputs": [],
   "source": [
    "#status - PresentableDistance\n",
    "status = busloc[0]['MonitoredVehicleJourney']['MonitoredCall']['Extensions']['Distances']['PresentableDistance']"
   ]
  },
  {
   "cell_type": "code",
   "execution_count": 17,
   "metadata": {
    "collapsed": true
   },
   "outputs": [],
   "source": [
    "#stop name - stoppointname\n",
    "stop = busloc[0]['MonitoredVehicleJourney']['MonitoredCall']['StopPointName']"
   ]
  },
  {
   "cell_type": "code",
   "execution_count": 26,
   "metadata": {},
   "outputs": [
    {
     "ename": "NameError",
     "evalue": "name 'write' is not defined",
     "output_type": "error",
     "traceback": [
      "\u001b[0;31m---------------------------------------------------------------------------\u001b[0m",
      "\u001b[0;31mNameError\u001b[0m                                 Traceback (most recent call last)",
      "\u001b[0;32m<ipython-input-26-f7781af6fe16>\u001b[0m in \u001b[0;36m<module>\u001b[0;34m()\u001b[0m\n\u001b[1;32m      8\u001b[0m \u001b[0;32mfor\u001b[0m \u001b[0mi\u001b[0m \u001b[0;32min\u001b[0m \u001b[0mrange\u001b[0m\u001b[0;34m(\u001b[0m\u001b[0mlen\u001b[0m\u001b[0;34m(\u001b[0m\u001b[0mbusloc\u001b[0m\u001b[0;34m)\u001b[0m\u001b[0;34m)\u001b[0m\u001b[0;34m:\u001b[0m\u001b[0;34m\u001b[0m\u001b[0m\n\u001b[1;32m      9\u001b[0m \u001b[0;31m#     print (\"{},{},{},{}\".format(bus_list[i][1].values()[0], bus_list[i][1].values()[1], stop, status))\u001b[0m\u001b[0;34m\u001b[0m\u001b[0;34m\u001b[0m\u001b[0m\n\u001b[0;32m---> 10\u001b[0;31m     \u001b[0mwrite\u001b[0m\u001b[0;34m(\u001b[0m\u001b[0;34m\"{},{},{},{}\"\u001b[0m\u001b[0;34m.\u001b[0m\u001b[0mformat\u001b[0m\u001b[0;34m(\u001b[0m\u001b[0mbus_list\u001b[0m\u001b[0;34m[\u001b[0m\u001b[0mi\u001b[0m\u001b[0;34m]\u001b[0m\u001b[0;34m[\u001b[0m\u001b[0;36m1\u001b[0m\u001b[0;34m]\u001b[0m\u001b[0;34m.\u001b[0m\u001b[0mvalues\u001b[0m\u001b[0;34m(\u001b[0m\u001b[0;34m)\u001b[0m\u001b[0;34m[\u001b[0m\u001b[0;36m0\u001b[0m\u001b[0;34m]\u001b[0m\u001b[0;34m,\u001b[0m \u001b[0mbus_list\u001b[0m\u001b[0;34m[\u001b[0m\u001b[0mi\u001b[0m\u001b[0;34m]\u001b[0m\u001b[0;34m[\u001b[0m\u001b[0;36m1\u001b[0m\u001b[0;34m]\u001b[0m\u001b[0;34m.\u001b[0m\u001b[0mvalues\u001b[0m\u001b[0;34m(\u001b[0m\u001b[0;34m)\u001b[0m\u001b[0;34m[\u001b[0m\u001b[0;36m1\u001b[0m\u001b[0;34m]\u001b[0m\u001b[0;34m,\u001b[0m \u001b[0mstop\u001b[0m\u001b[0;34m,\u001b[0m \u001b[0mstatus\u001b[0m\u001b[0;34m)\u001b[0m\u001b[0;34m)\u001b[0m\u001b[0;34m\u001b[0m\u001b[0m\n\u001b[0m\u001b[1;32m     11\u001b[0m \u001b[0;34m\u001b[0m\u001b[0m\n",
      "\u001b[0;31mNameError\u001b[0m: name 'write' is not defined"
     ]
    }
   ],
   "source": [
    "next_bus = []\n",
    "for bus in range(len(busloc)):\n",
    "    latlong = busloc[bus]['MonitoredVehicleJourney']['VehicleLocation']\n",
    "    status = busloc[bus]['MonitoredVehicleJourney']['MonitoredCall']['Extensions']['Distances']['PresentableDistance']\n",
    "    stop = busloc[bus]['MonitoredVehicleJourney']['MonitoredCall']['StopPointName']\n",
    "    next_bus.append((latlong, status, stop))\n",
    "\n",
    "for i in range(len(busloc)):\n",
    "#     print (\"{},{},{},{}\".format(bus_list[i][1].values()[0], bus_list[i][1].values()[1], stop, status))   \n",
    "    write(\"{},{},{},{}\".format(bus_list[i][1].values()[0], bus_list[i][1].values()[1], stop, status))   \n",
    "            "
   ]
  },
  {
   "cell_type": "code",
   "execution_count": 24,
   "metadata": {},
   "outputs": [
    {
     "ename": "IndexError",
     "evalue": "list index out of range",
     "output_type": "error",
     "traceback": [
      "\u001b[0;31m---------------------------------------------------------------------------\u001b[0m",
      "\u001b[0;31mIndexError\u001b[0m                                Traceback (most recent call last)",
      "\u001b[0;32m<ipython-input-24-bd317fdb91b0>\u001b[0m in \u001b[0;36m<module>\u001b[0;34m()\u001b[0m\n\u001b[1;32m      1\u001b[0m \u001b[0;34m\u001b[0m\u001b[0m\n\u001b[0;32m----> 2\u001b[0;31m \u001b[0mBUS_FILE\u001b[0m \u001b[0;34m=\u001b[0m \u001b[0mopen\u001b[0m\u001b[0;34m(\u001b[0m\u001b[0msys\u001b[0m\u001b[0;34m.\u001b[0m\u001b[0margv\u001b[0m\u001b[0;34m[\u001b[0m\u001b[0;36m3\u001b[0m\u001b[0;34m]\u001b[0m\u001b[0;34m)\u001b[0m\u001b[0;34m\u001b[0m\u001b[0m\n\u001b[0m",
      "\u001b[0;31mIndexError\u001b[0m: list index out of range"
     ]
    }
   ],
   "source": [
    "#save the file to csv\n",
    "BUS_FILE = open(sys.argv[3])\n"
   ]
  },
  {
   "cell_type": "code",
   "execution_count": null,
   "metadata": {
    "collapsed": true
   },
   "outputs": [],
   "source": []
  }
 ],
 "metadata": {
  "kernelspec": {
   "display_name": "Python 2",
   "language": "python",
   "name": "python2"
  },
  "language_info": {
   "codemirror_mode": {
    "name": "ipython",
    "version": 2
   },
   "file_extension": ".py",
   "mimetype": "text/x-python",
   "name": "python",
   "nbconvert_exporter": "python",
   "pygments_lexer": "ipython2",
   "version": "2.7.12"
  }
 },
 "nbformat": 4,
 "nbformat_minor": 2
}
