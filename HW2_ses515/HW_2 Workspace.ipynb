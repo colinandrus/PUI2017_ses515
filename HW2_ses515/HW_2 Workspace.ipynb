{
 "cells": [
  {
   "cell_type": "code",
   "execution_count": 7,
   "metadata": {
    "collapsed": false
   },
   "outputs": [],
   "source": [
    "from __future__ import print_function\n",
    "\n",
    "import pylab as pl\n",
    "import os\n",
    "import json\n",
    "import pandas as pd\n",
    "import sys\n",
    "\n",
    "try:\n",
    "    import urllib2 as urllib\n",
    "except ImportError:\n",
    "    import urllib.request as urllib\n",
    "\n",
    "# %pylab inline\n",
    "pl.rc('font', size=15)\n",
    "\n",
    "# # key = sys.argv(1)\n",
    "# # line = sys.argv(2)\n",
    "\n",
    "# if not len(sys.argv) == 3:\n",
    "#     print (\"Invalid number of arguments.\")\n",
    "#     sys.exit()\n",
    "\n",
    "# url = \"http://bustime.mta.info/api/siri/vehicle-monitoring.json?key=\" + key + \\\n",
    "#     \"a&VehicleMonitoringDetailLevel=calls&LineRef=\" + line\n",
    "\n",
    "# url = \"http://bustime.mta.info/api/siri/vehicle-monitoring.json?key=\" + key + \\\n",
    "#    \"&VehicleMonitoringDetailLevel=calls&LineRef=\" + line\n",
    "\n",
    "url = 'http://bustime.mta.info/api/siri/vehicle-monitoring.json?key=e5a5e9f0-7ebf-46e2-9924-ce178bbd6802&VehicleMonitoringDetailLevel=calls&LineRef=B52'\n",
    "\n",
    "response = urllib.urlopen(url)\n",
    "data = response.read().decode(\"utf-8\")\n",
    "data = json.loads(data)\n",
    "\n",
    "\n"
   ]
  },
  {
   "cell_type": "code",
   "execution_count": 8,
   "metadata": {
    "collapsed": true
   },
   "outputs": [],
   "source": [
    "allbuses = data['Siri']['ServiceDelivery']['VehicleMonitoringDelivery'][0]['VehicleActivity']\n"
   ]
  },
  {
   "cell_type": "code",
   "execution_count": 10,
   "metadata": {
    "collapsed": false
   },
   "outputs": [
    {
     "ename": "KeyError",
     "evalue": "1",
     "output_type": "error",
     "traceback": [
      "\u001b[1;31m---------------------------------------------------------------------------\u001b[0m",
      "\u001b[1;31mKeyError\u001b[0m                                  Traceback (most recent call last)",
      "\u001b[1;32m<ipython-input-10-8f08c6d35376>\u001b[0m in \u001b[0;36m<module>\u001b[1;34m()\u001b[0m\n\u001b[0;32m      7\u001b[0m \u001b[1;33m\u001b[0m\u001b[0m\n\u001b[0;32m      8\u001b[0m \u001b[1;32mfor\u001b[0m \u001b[0mi\u001b[0m \u001b[1;32min\u001b[0m \u001b[0mrange\u001b[0m\u001b[1;33m(\u001b[0m\u001b[0mlen\u001b[0m\u001b[1;33m(\u001b[0m\u001b[0mallbuses\u001b[0m\u001b[1;33m)\u001b[0m\u001b[1;33m)\u001b[0m\u001b[1;33m:\u001b[0m\u001b[1;33m\u001b[0m\u001b[0m\n\u001b[1;32m----> 9\u001b[1;33m      \u001b[1;32mprint\u001b[0m \u001b[1;33m(\u001b[0m\u001b[1;34m\"Bus {} is at {} latitude and {} longitude\"\u001b[0m\u001b[1;33m.\u001b[0m\u001b[0mformat\u001b[0m\u001b[1;33m(\u001b[0m\u001b[0mi\u001b[0m\u001b[1;33m,\u001b[0m \u001b[0mbus_list\u001b[0m\u001b[1;33m[\u001b[0m\u001b[0mi\u001b[0m\u001b[1;33m]\u001b[0m\u001b[1;33m[\u001b[0m\u001b[1;36m1\u001b[0m\u001b[1;33m]\u001b[0m\u001b[1;33m.\u001b[0m\u001b[0mvalues\u001b[0m\u001b[1;33m(\u001b[0m\u001b[1;33m)\u001b[0m\u001b[1;33m[\u001b[0m\u001b[1;36m0\u001b[0m\u001b[1;33m]\u001b[0m\u001b[1;33m,\u001b[0m \u001b[0mbus_list\u001b[0m\u001b[1;33m[\u001b[0m\u001b[0mi\u001b[0m\u001b[1;33m]\u001b[0m\u001b[1;33m[\u001b[0m\u001b[1;36m1\u001b[0m\u001b[1;33m]\u001b[0m\u001b[1;33m.\u001b[0m\u001b[0mvalues\u001b[0m\u001b[1;33m(\u001b[0m\u001b[1;33m)\u001b[0m\u001b[1;33m[\u001b[0m\u001b[1;36m1\u001b[0m\u001b[1;33m]\u001b[0m\u001b[1;33m)\u001b[0m\u001b[1;33m)\u001b[0m\u001b[1;33m\u001b[0m\u001b[0m\n\u001b[0m\u001b[0;32m     10\u001b[0m \u001b[1;33m\u001b[0m\u001b[0m\n\u001b[0;32m     11\u001b[0m \u001b[1;33m\u001b[0m\u001b[0m\n",
      "\u001b[1;31mKeyError\u001b[0m: 1"
     ]
    }
   ],
   "source": [
    "bus_list = []\n",
    "for bus in range(len(allbuses)):\n",
    "    name = allbuses[bus]['MonitoredVehicleJourney']['PublishedLineName']\n",
    "    location = allbuses[bus]['MonitoredVehicleJourney']['VehicleLocation']\n",
    "    bus_list.append({\"name\": name, \"location\": location})\n",
    "    \n",
    "\n",
    "for i in range(len(allbuses)):\n",
    "     print (\"Bus {} is at {} latitude and {} longitude\".format(i, bus_list[i][1].values()[0], bus_list[i][1].values()[1]))   \n",
    "  \n",
    "                \n"
   ]
  },
  {
   "cell_type": "code",
   "execution_count": 11,
   "metadata": {
    "collapsed": false
   },
   "outputs": [
    {
     "name": "stdout",
     "output_type": "stream",
     "text": [
      "Bus 0 is at 40.699288 latitude and -73.911275 longitude\n",
      "Bus 1 is at 40.6937 latitude and -73.917935 longitude\n",
      "Bus 2 is at 40.690767 latitude and -73.920813 longitude\n",
      "Bus 3 is at 40.685761 latitude and -73.954543 longitude\n",
      "Bus 4 is at 40.693763 latitude and -73.917873 longitude\n",
      "Bus 5 is at 40.688873 latitude and -73.927487 longitude\n",
      "Bus 6 is at 40.688364 latitude and -73.979565 longitude\n",
      "Bus 7 is at 40.685824 latitude and -73.956611 longitude\n",
      "Bus 8 is at 40.68599 latitude and -73.97364 longitude\n",
      "Bus 9 is at 40.695509 latitude and -73.988993 longitude\n"
     ]
    }
   ],
   "source": [
    "bus_list = []\n",
    "for bus in range(len(allbuses)):\n",
    "    name = allbuses[bus]['MonitoredVehicleJourney']['PublishedLineName']\n",
    "    location = allbuses[bus]['MonitoredVehicleJourney']['VehicleLocation']\n",
    "    bus_list.append((name, location))\n",
    "    \n",
    "for i in range(len(allbuses)):\n",
    "     print (\"Bus {} is at {} latitude and {} longitude\".format(i, bus_list[i][1].values()[0], bus_list[i][1].values()[1]))   \n",
    "\n",
    "\n",
    "         "
   ]
  },
  {
   "cell_type": "markdown",
   "metadata": {},
   "source": [
    "## HW Challenge 2"
   ]
  },
  {
   "cell_type": "code",
   "execution_count": null,
   "metadata": {
    "collapsed": true
   },
   "outputs": [],
   "source": []
  },
  {
   "cell_type": "code",
   "execution_count": null,
   "metadata": {
    "collapsed": true
   },
   "outputs": [],
   "source": [
    "# call: \n",
    "# \"PresentableDistance\" ie \"approaching\"\n",
    "# \"VehicleLocation\" \" Longitude, latitude\"\n",
    "# \"StopPointName\" \"Gates + Evergreen\""
   ]
  },
  {
   "cell_type": "code",
   "execution_count": 11,
   "metadata": {
    "collapsed": true
   },
   "outputs": [],
   "source": [
    "busloc = data['Siri']['ServiceDelivery']['VehicleMonitoringDelivery'][0]['VehicleActivity']\n"
   ]
  },
  {
   "cell_type": "code",
   "execution_count": 12,
   "metadata": {
    "collapsed": true
   },
   "outputs": [],
   "source": [
    "#exact location - lat/long\n",
    "latlong = busloc[0]['MonitoredVehicleJourney']['VehicleLocation']"
   ]
  },
  {
   "cell_type": "code",
   "execution_count": 13,
   "metadata": {
    "collapsed": true
   },
   "outputs": [],
   "source": [
    "#status - PresentableDistance\n",
    "status = busloc[0]['MonitoredVehicleJourney']['MonitoredCall']['Extensions']['Distances']['PresentableDistance']"
   ]
  },
  {
   "cell_type": "code",
   "execution_count": 14,
   "metadata": {
    "collapsed": true
   },
   "outputs": [],
   "source": [
    "#stop name - stoppointname\n",
    "stop = busloc[0]['MonitoredVehicleJourney']['MonitoredCall']['StopPointName']"
   ]
  },
  {
   "cell_type": "code",
   "execution_count": 21,
   "metadata": {
    "collapsed": false
   },
   "outputs": [
    {
     "name": "stdout",
     "output_type": "stream",
     "text": [
      "-73.938704\n",
      "-73.930483\n",
      "-73.976191\n",
      "-73.988983\n"
     ]
    }
   ],
   "source": [
    "next_bus = []\n",
    "for bus in range(len(busloc)):\n",
    "    latlong = busloc[bus]['MonitoredVehicleJourney']['VehicleLocation']\n",
    "    status = busloc[bus]['MonitoredVehicleJourney']['MonitoredCall']['Extensions']['Distances']['PresentableDistance']\n",
    "    stop = busloc[bus]['MonitoredVehicleJourney']['MonitoredCall']['StopPointName']\n",
    "    next_bus.append((latlong, status, stop))\n",
    "\n",
    "for i in range(len(busloc)):\n",
    "#     print(\"{},{},{},{}\".format(next_bus[i][1].values()[0], next_bus[i][1].values()[1], stop, status))   \n",
    "      print (next_bus[i][0].values()[0])\n"
   ]
  },
  {
   "cell_type": "code",
   "execution_count": 24,
   "metadata": {
    "collapsed": false
   },
   "outputs": [
    {
     "ename": "IndexError",
     "evalue": "list index out of range",
     "output_type": "error",
     "traceback": [
      "\u001b[0;31m---------------------------------------------------------------------------\u001b[0m",
      "\u001b[0;31mIndexError\u001b[0m                                Traceback (most recent call last)",
      "\u001b[0;32m<ipython-input-24-bd317fdb91b0>\u001b[0m in \u001b[0;36m<module>\u001b[0;34m()\u001b[0m\n\u001b[1;32m      1\u001b[0m \u001b[0;34m\u001b[0m\u001b[0m\n\u001b[0;32m----> 2\u001b[0;31m \u001b[0mBUS_FILE\u001b[0m \u001b[0;34m=\u001b[0m \u001b[0mopen\u001b[0m\u001b[0;34m(\u001b[0m\u001b[0msys\u001b[0m\u001b[0;34m.\u001b[0m\u001b[0margv\u001b[0m\u001b[0;34m[\u001b[0m\u001b[0;36m3\u001b[0m\u001b[0;34m]\u001b[0m\u001b[0;34m)\u001b[0m\u001b[0;34m\u001b[0m\u001b[0m\n\u001b[0m",
      "\u001b[0;31mIndexError\u001b[0m: list index out of range"
     ]
    }
   ],
   "source": [
    "#save the file to csv\n",
    "BUS_FILE = open(sys.argv[3])\n"
   ]
  },
  {
   "cell_type": "code",
   "execution_count": null,
   "metadata": {
    "collapsed": true
   },
   "outputs": [],
   "source": []
  }
 ],
 "metadata": {
  "kernelspec": {
   "display_name": "Python 2",
   "language": "python",
   "name": "python2"
  },
  "language_info": {
   "codemirror_mode": {
    "name": "ipython",
    "version": 2
   },
   "file_extension": ".py",
   "mimetype": "text/x-python",
   "name": "python",
   "nbconvert_exporter": "python",
   "pygments_lexer": "ipython2",
   "version": "2.7.11"
  }
 },
 "nbformat": 4,
 "nbformat_minor": 2
}
