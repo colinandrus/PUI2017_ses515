{
 "cells": [
  {
   "cell_type": "code",
   "execution_count": 1,
   "metadata": {
    "collapsed": false
   },
   "outputs": [],
   "source": [
    "%matplotlib inline\n",
    "import pandas as pd\n",
    "import matplotlib.pyplot as plt\n",
    "from datetime import datetime\n",
    "import numpy as np\n",
    "import os"
   ]
  },
  {
   "cell_type": "code",
   "execution_count": 19,
   "metadata": {
    "collapsed": false
   },
   "outputs": [
    {
     "data": {
      "text/html": [
       "<div>\n",
       "<table border=\"1\" class=\"dataframe\">\n",
       "  <thead>\n",
       "    <tr style=\"text-align: right;\">\n",
       "      <th></th>\n",
       "      <th>Project ID</th>\n",
       "      <th>Project Name</th>\n",
       "      <th>Project Start Date</th>\n",
       "      <th>Project Completion Date</th>\n",
       "      <th>Building ID</th>\n",
       "      <th>House Number</th>\n",
       "      <th>Street Name</th>\n",
       "      <th>Borough</th>\n",
       "      <th>BBL</th>\n",
       "      <th>BIN</th>\n",
       "      <th>...</th>\n",
       "      <th>Extremely Low Income Units</th>\n",
       "      <th>Very Low Income</th>\n",
       "      <th>Low Income Units</th>\n",
       "      <th>Moderate Income</th>\n",
       "      <th>Middle Income</th>\n",
       "      <th>Other</th>\n",
       "      <th>Counted Rental Units</th>\n",
       "      <th>Counted Homeownership Units</th>\n",
       "      <th>All Counted Units</th>\n",
       "      <th>Total Units</th>\n",
       "    </tr>\n",
       "  </thead>\n",
       "  <tbody>\n",
       "    <tr>\n",
       "      <th>0</th>\n",
       "      <td>58966</td>\n",
       "      <td>ALEMBIC. 1880 BOSTON ROAD</td>\n",
       "      <td>12/30/2016</td>\n",
       "      <td>NaN</td>\n",
       "      <td>972249.0</td>\n",
       "      <td>1880</td>\n",
       "      <td>BOSTON ROAD</td>\n",
       "      <td>Bronx</td>\n",
       "      <td>2.030040e+09</td>\n",
       "      <td>NaN</td>\n",
       "      <td>...</td>\n",
       "      <td>167</td>\n",
       "      <td>0</td>\n",
       "      <td>0</td>\n",
       "      <td>0</td>\n",
       "      <td>0</td>\n",
       "      <td>1</td>\n",
       "      <td>168</td>\n",
       "      <td>0</td>\n",
       "      <td>168</td>\n",
       "      <td>168</td>\n",
       "    </tr>\n",
       "    <tr>\n",
       "      <th>1</th>\n",
       "      <td>60249</td>\n",
       "      <td>FOX STREET PRC</td>\n",
       "      <td>12/30/2016</td>\n",
       "      <td>NaN</td>\n",
       "      <td>971150.0</td>\n",
       "      <td>1000</td>\n",
       "      <td>FOX STREET</td>\n",
       "      <td>Bronx</td>\n",
       "      <td>NaN</td>\n",
       "      <td>NaN</td>\n",
       "      <td>...</td>\n",
       "      <td>0</td>\n",
       "      <td>60</td>\n",
       "      <td>59</td>\n",
       "      <td>0</td>\n",
       "      <td>0</td>\n",
       "      <td>1</td>\n",
       "      <td>120</td>\n",
       "      <td>0</td>\n",
       "      <td>120</td>\n",
       "      <td>120</td>\n",
       "    </tr>\n",
       "    <tr>\n",
       "      <th>2</th>\n",
       "      <td>60249</td>\n",
       "      <td>FOX STREET PRC</td>\n",
       "      <td>12/30/2016</td>\n",
       "      <td>NaN</td>\n",
       "      <td>975072.0</td>\n",
       "      <td>960</td>\n",
       "      <td>SIMPSON STREET</td>\n",
       "      <td>Bronx</td>\n",
       "      <td>2.027240e+09</td>\n",
       "      <td>NaN</td>\n",
       "      <td>...</td>\n",
       "      <td>8</td>\n",
       "      <td>32</td>\n",
       "      <td>40</td>\n",
       "      <td>0</td>\n",
       "      <td>0</td>\n",
       "      <td>0</td>\n",
       "      <td>80</td>\n",
       "      <td>0</td>\n",
       "      <td>80</td>\n",
       "      <td>80</td>\n",
       "    </tr>\n",
       "    <tr>\n",
       "      <th>3</th>\n",
       "      <td>63348</td>\n",
       "      <td>CONFIDENTIAL</td>\n",
       "      <td>12/30/2016</td>\n",
       "      <td>NaN</td>\n",
       "      <td>NaN</td>\n",
       "      <td>----</td>\n",
       "      <td>----</td>\n",
       "      <td>Brooklyn</td>\n",
       "      <td>NaN</td>\n",
       "      <td>NaN</td>\n",
       "      <td>...</td>\n",
       "      <td>0</td>\n",
       "      <td>0</td>\n",
       "      <td>2</td>\n",
       "      <td>0</td>\n",
       "      <td>0</td>\n",
       "      <td>0</td>\n",
       "      <td>0</td>\n",
       "      <td>2</td>\n",
       "      <td>2</td>\n",
       "      <td>2</td>\n",
       "    </tr>\n",
       "    <tr>\n",
       "      <th>4</th>\n",
       "      <td>63349</td>\n",
       "      <td>CONFIDENTIAL</td>\n",
       "      <td>12/30/2016</td>\n",
       "      <td>NaN</td>\n",
       "      <td>NaN</td>\n",
       "      <td>----</td>\n",
       "      <td>----</td>\n",
       "      <td>Brooklyn</td>\n",
       "      <td>NaN</td>\n",
       "      <td>NaN</td>\n",
       "      <td>...</td>\n",
       "      <td>0</td>\n",
       "      <td>0</td>\n",
       "      <td>2</td>\n",
       "      <td>0</td>\n",
       "      <td>0</td>\n",
       "      <td>0</td>\n",
       "      <td>2</td>\n",
       "      <td>0</td>\n",
       "      <td>2</td>\n",
       "      <td>2</td>\n",
       "    </tr>\n",
       "  </tbody>\n",
       "</table>\n",
       "<p>5 rows × 32 columns</p>\n",
       "</div>"
      ],
      "text/plain": [
       "   Project ID               Project Name Project Start Date  \\\n",
       "0       58966  ALEMBIC. 1880 BOSTON ROAD         12/30/2016   \n",
       "1       60249             FOX STREET PRC         12/30/2016   \n",
       "2       60249             FOX STREET PRC         12/30/2016   \n",
       "3       63348               CONFIDENTIAL         12/30/2016   \n",
       "4       63349               CONFIDENTIAL         12/30/2016   \n",
       "\n",
       "  Project Completion Date  Building ID House Number     Street Name   Borough  \\\n",
       "0                     NaN     972249.0         1880     BOSTON ROAD     Bronx   \n",
       "1                     NaN     971150.0         1000      FOX STREET     Bronx   \n",
       "2                     NaN     975072.0          960  SIMPSON STREET     Bronx   \n",
       "3                     NaN          NaN         ----            ----  Brooklyn   \n",
       "4                     NaN          NaN         ----            ----  Brooklyn   \n",
       "\n",
       "            BBL  BIN     ...      Extremely Low Income Units  Very Low Income  \\\n",
       "0  2.030040e+09  NaN     ...                             167                0   \n",
       "1           NaN  NaN     ...                               0               60   \n",
       "2  2.027240e+09  NaN     ...                               8               32   \n",
       "3           NaN  NaN     ...                               0                0   \n",
       "4           NaN  NaN     ...                               0                0   \n",
       "\n",
       "   Low Income Units Moderate Income  Middle Income  Other  \\\n",
       "0                 0               0              0      1   \n",
       "1                59               0              0      1   \n",
       "2                40               0              0      0   \n",
       "3                 2               0              0      0   \n",
       "4                 2               0              0      0   \n",
       "\n",
       "   Counted Rental Units  Counted Homeownership Units All Counted Units  \\\n",
       "0                   168                            0               168   \n",
       "1                   120                            0               120   \n",
       "2                    80                            0                80   \n",
       "3                     0                            2                 2   \n",
       "4                     2                            0                 2   \n",
       "\n",
       "  Total Units  \n",
       "0         168  \n",
       "1         120  \n",
       "2          80  \n",
       "3           2  \n",
       "4           2  \n",
       "\n",
       "[5 rows x 32 columns]"
      ]
     },
     "execution_count": 19,
     "metadata": {},
     "output_type": "execute_result"
    }
   ],
   "source": [
    "DFDATA = os.getenv(\"DFDATA\")\n",
    "df = pd.read_csv(DFDATA+\"/hg8x-zxpr/1484697600/hg8x-zxpr.csv\")\n",
    "df.head()                "
   ]
  },
  {
   "cell_type": "code",
   "execution_count": 20,
   "metadata": {
    "collapsed": false
   },
   "outputs": [
    {
     "data": {
      "text/html": [
       "<div>\n",
       "<table border=\"1\" class=\"dataframe\">\n",
       "  <thead>\n",
       "    <tr style=\"text-align: right;\">\n",
       "      <th></th>\n",
       "      <th>Project Start Date</th>\n",
       "      <th>Total Units</th>\n",
       "    </tr>\n",
       "  </thead>\n",
       "  <tbody>\n",
       "    <tr>\n",
       "      <th>0</th>\n",
       "      <td>12/30/2016</td>\n",
       "      <td>168</td>\n",
       "    </tr>\n",
       "    <tr>\n",
       "      <th>1</th>\n",
       "      <td>12/30/2016</td>\n",
       "      <td>120</td>\n",
       "    </tr>\n",
       "    <tr>\n",
       "      <th>2</th>\n",
       "      <td>12/30/2016</td>\n",
       "      <td>80</td>\n",
       "    </tr>\n",
       "    <tr>\n",
       "      <th>3</th>\n",
       "      <td>12/30/2016</td>\n",
       "      <td>2</td>\n",
       "    </tr>\n",
       "    <tr>\n",
       "      <th>4</th>\n",
       "      <td>12/30/2016</td>\n",
       "      <td>2</td>\n",
       "    </tr>\n",
       "  </tbody>\n",
       "</table>\n",
       "</div>"
      ],
      "text/plain": [
       "  Project Start Date  Total Units\n",
       "0         12/30/2016          168\n",
       "1         12/30/2016          120\n",
       "2         12/30/2016           80\n",
       "3         12/30/2016            2\n",
       "4         12/30/2016            2"
      ]
     },
     "execution_count": 20,
     "metadata": {},
     "output_type": "execute_result"
    }
   ],
   "source": [
    "df2 = df[[\"Project Start Date\", \"Total Units\"]]\n",
    "df2.head()"
   ]
  },
  {
   "cell_type": "code",
   "execution_count": 29,
   "metadata": {
    "collapsed": false
   },
   "outputs": [],
   "source": [
    "df2[\"Project Start Date\"] = pd.to_datetime(df2[\"Project Start Date\"], format='%m/%d/%Y')"
   ]
  },
  {
   "cell_type": "code",
   "execution_count": 30,
   "metadata": {
    "collapsed": true
   },
   "outputs": [],
   "source": [
    "# this step took me FOREVER to figure out.\n",
    "df2 = df2.dropna()\n"
   ]
  },
  {
   "cell_type": "code",
   "execution_count": 36,
   "metadata": {
    "collapsed": false
   },
   "outputs": [
    {
     "data": {
      "text/plain": [
       "<matplotlib.text.Text at 0x7f8658dfc8d0>"
      ]
     },
     "execution_count": 36,
     "metadata": {},
     "output_type": "execute_result"
    },
    {
     "data": {
      "image/png": "[encoded data removed]",
      "text/plain": [
       "<matplotlib.figure.Figure at 0x7f8659184090>"
      ]
     },
     "metadata": {},
     "output_type": "display_data"
    }
   ],
   "source": [
    "ax = df2.plot(x='Project Start Date', y='Total Units', rot=90, alpha=.5)\n",
    "\n",
    "ax.set_ylabel(\"Total housing units\")\n",
    "ax.set_title(\"Housing New York Units by Building, by Project Start Dates\")"
   ]
  },
  {
   "cell_type": "code",
   "execution_count": null,
   "metadata": {
    "collapsed": true
   },
   "outputs": [],
   "source": []
  },
  {
   "cell_type": "code",
   "execution_count": null,
   "metadata": {
    "collapsed": true
   },
   "outputs": [],
   "source": []
  }
 ],
 "metadata": {
  "kernelspec": {
   "display_name": "PUI2016_Python2",
   "language": "python",
   "name": "pui2016_python2"
  },
  "language_info": {
   "codemirror_mode": {
    "name": "ipython",
    "version": 2
   },
   "file_extension": ".py",
   "mimetype": "text/x-python",
   "name": "python",
   "nbconvert_exporter": "python",
   "pygments_lexer": "ipython2",
   "version": "2.7.12"
  }
 },
 "nbformat": 4,
 "nbformat_minor": 2
}
