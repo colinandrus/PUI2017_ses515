{
 "cells": [
  {
   "cell_type": "code",
   "execution_count": 19,
   "metadata": {},
   "outputs": [],
   "source": [
    "from __future__ import print_function\n",
    "\n",
    "import pylab as pl\n",
    "import os\n",
    "import json\n",
    "import pandas as pd\n",
    "import sys\n",
    "\n",
    "try:\n",
    "    import urllib2 as urllib\n",
    "except ImportError:\n",
    "    import urllib.request as urllib\n",
    "\n",
    "# %pylab inline\n",
    "pl.rc('font', size=15)\n",
    "\n",
    "# # key = sys.argv(1)\n",
    "# # line = sys.argv(2)\n",
    "\n",
    "# if not len(sys.argv) == 3:\n",
    "#     print (\"Invalid number of arguments.\")\n",
    "#     sys.exit()\n",
    "\n",
    "# url = \"http://bustime.mta.info/api/siri/vehicle-monitoring.json?key=\" + key + \\\n",
    "#    \"a&VehicleMonitoringDetailLevel=calls&LineRef=\" + line\n",
    "\n",
    "url = 'http://bustime.mta.info/api/siri/vehicle-monitoring.json?key=e5a5e9f0-7ebf-46e2-9924-ce178bbd6802&VehicleMonitoringDetailLevel=calls&LineRef=B52'\n",
    "\n",
    "response = urllib.urlopen(url)\n",
    "data = response.read().decode(\"utf-8\")\n",
    "data = json.loads(data)\n",
    "\n",
    "\n"
   ]
  },
  {
   "cell_type": "code",
   "execution_count": null,
   "metadata": {
    "collapsed": true
   },
   "outputs": [],
   "source": [
    "allbuses = data['Siri']['ServiceDelivery']['VehicleMonitoringDelivery'][0]['VehicleActivity']\n"
   ]
  },
  {
   "cell_type": "code",
   "execution_count": null,
   "metadata": {
    "collapsed": true
   },
   "outputs": [],
   "source": [
    "bus_list = []\n",
    "for bus in range(len(allbuses)):\n",
    "    name = allbuses[bus]['MonitoredVehicleJourney']['PublishedLineName']\n",
    "    location = allbuses[bus]['MonitoredVehicleJourney']['VehicleLocation']\n",
    "    bus_list.append({\"name\": name, \"location\": location})\n",
    "    \n",
    "for i in range(len(allbuses)):\n",
    "    print (\"Bus {i} is at {location}\".format(i=i, location=location))   \n",
    "                \n"
   ]
  },
  {
   "cell_type": "markdown",
   "metadata": {},
   "source": [
    "## HW Challenge 2"
   ]
  },
  {
   "cell_type": "code",
   "execution_count": null,
   "metadata": {
    "collapsed": true
   },
   "outputs": [],
   "source": []
  },
  {
   "cell_type": "code",
   "execution_count": null,
   "metadata": {
    "collapsed": true
   },
   "outputs": [],
   "source": [
    "# call: \n",
    "# \"PresentableDistance\" ie \"approaching\"\n",
    "# \"VehicleLocation\" \" Longitude, latitude\"\n",
    "# \"StopPointName\" \"Gates + Evergreen\""
   ]
  },
  {
   "cell_type": "code",
   "execution_count": 20,
   "metadata": {
    "collapsed": true
   },
   "outputs": [],
   "source": [
    "busloc = data['Siri']['ServiceDelivery']['VehicleMonitoringDelivery'][0]['VehicleActivity']\n"
   ]
  },
  {
   "cell_type": "code",
   "execution_count": null,
   "metadata": {
    "collapsed": true
   },
   "outputs": [],
   "source": [
    "#exact location - lat/long\n",
    "latlong = busloc[0]['MonitoredVehicleJourney']['VehicleLocation']"
   ]
  },
  {
   "cell_type": "code",
   "execution_count": null,
   "metadata": {
    "collapsed": true
   },
   "outputs": [],
   "source": [
    "#status - PresentableDistance\n",
    "status = busloc[0]['MonitoredVehicleJourney']['MonitoredCall']['Extensions']['Distances']['PresentableDistance']"
   ]
  },
  {
   "cell_type": "code",
   "execution_count": null,
   "metadata": {
    "collapsed": true
   },
   "outputs": [],
   "source": [
    "#stop name - stoppointname\n",
    "stop = busloc[0]['MonitoredVehicleJourney']['MonitoredCall']['StopPointName']"
   ]
  },
  {
   "cell_type": "code",
   "execution_count": 24,
   "metadata": {},
   "outputs": [
    {
     "name": "stdout",
     "output_type": "stream",
     "text": [
      "0 is at {u'Latitude': 40.691856, u'Longitude': -73.988345}, approaching, FULTON ST/SMITH ST\n",
      "1 is at {u'Latitude': 40.691856, u'Longitude': -73.988345}, approaching, FULTON ST/SMITH ST\n",
      "2 is at {u'Latitude': 40.691856, u'Longitude': -73.988345}, approaching, FULTON ST/SMITH ST\n",
      "3 is at {u'Latitude': 40.691856, u'Longitude': -73.988345}, approaching, FULTON ST/SMITH ST\n"
     ]
    }
   ],
   "source": [
    "next_bus = []\n",
    "for bus in range(len(busloc)):\n",
    "    latlong = busloc[bus]['MonitoredVehicleJourney']['VehicleLocation']\n",
    "    status = busloc[bus]['MonitoredVehicleJourney']['MonitoredCall']['Extensions']['Distances']['PresentableDistance']\n",
    "    stop = busloc[bus]['MonitoredVehicleJourney']['MonitoredCall']['StopPointName']\n",
    "    next_bus.append({\"latlong\": latlong, \"status\": status, \"stop\": stop})\n",
    "  \n",
    "\n",
    "# why listing same bus multiple times\n",
    "for i in range(len(busloc)):\n",
    "    print (\"{i} is at {location}, {status}, {stop}\".format(i=i, location=latlong, status=status, stop=stop))   \n",
    "  \n",
    "            "
   ]
  },
  {
   "cell_type": "code",
   "execution_count": 17,
   "metadata": {},
   "outputs": [
    {
     "name": "stdout",
     "output_type": "stream",
     "text": [
      "0 is at {u'Latitude': 40.686233, u'Longitude': -73.950435}, < 1 stop away, GATES AV/MARCY AV\n",
      "1 is at {u'Latitude': 40.686233, u'Longitude': -73.950435}, < 1 stop away, GATES AV/MARCY AV\n",
      "2 is at {u'Latitude': 40.686233, u'Longitude': -73.950435}, < 1 stop away, GATES AV/MARCY AV\n",
      "3 is at {u'Latitude': 40.686233, u'Longitude': -73.950435}, < 1 stop away, GATES AV/MARCY AV\n"
     ]
    }
   ],
   "source": [
    "\n",
    "for i in range(len(busloc)):\n",
    "    print (\"{i} is at {location}, {status}, {stop}\".format(i=i, location=latlong, status=status, stop=stop))   \n"
   ]
  },
  {
   "cell_type": "code",
   "execution_count": null,
   "metadata": {
    "collapsed": true
   },
   "outputs": [],
   "source": []
  }
 ],
 "metadata": {
  "kernelspec": {
   "display_name": "Python 2",
   "language": "python",
   "name": "python2"
  },
  "language_info": {
   "codemirror_mode": {
    "name": "ipython",
    "version": 2
   },
   "file_extension": ".py",
   "mimetype": "text/x-python",
   "name": "python",
   "nbconvert_exporter": "python",
   "pygments_lexer": "ipython2",
   "version": "2.7.12"
  }
 },
 "nbformat": 4,
 "nbformat_minor": 2
}
